{
 "cells": [
  {
   "cell_type": "code",
   "execution_count": 1,
   "metadata": {},
   "outputs": [
    {
     "data": {
      "text/html": [
       "<div>\n",
       "<style scoped>\n",
       "    .dataframe tbody tr th:only-of-type {\n",
       "        vertical-align: middle;\n",
       "    }\n",
       "\n",
       "    .dataframe tbody tr th {\n",
       "        vertical-align: top;\n",
       "    }\n",
       "\n",
       "    .dataframe thead th {\n",
       "        text-align: right;\n",
       "    }\n",
       "</style>\n",
       "<table border=\"1\" class=\"dataframe\">\n",
       "  <thead>\n",
       "    <tr style=\"text-align: right;\">\n",
       "      <th></th>\n",
       "      <th>data</th>\n",
       "    </tr>\n",
       "  </thead>\n",
       "  <tbody>\n",
       "    <tr>\n",
       "      <th>0</th>\n",
       "      <td>Instruction:\\nHelp me set up my daily to-do li...</td>\n",
       "    </tr>\n",
       "    <tr>\n",
       "      <th>1</th>\n",
       "      <td>Instruction:\\nCreate a shopping list based on ...</td>\n",
       "    </tr>\n",
       "    <tr>\n",
       "      <th>2</th>\n",
       "      <td>Instruction:\\nCalculate how much time I spend ...</td>\n",
       "    </tr>\n",
       "    <tr>\n",
       "      <th>3</th>\n",
       "      <td>Instruction:\\nHelp me split the bill among my ...</td>\n",
       "    </tr>\n",
       "    <tr>\n",
       "      <th>4</th>\n",
       "      <td>Instruction:\\nOrganize my movie list into genr...</td>\n",
       "    </tr>\n",
       "  </tbody>\n",
       "</table>\n",
       "</div>"
      ],
      "text/plain": [
       "                                                data\n",
       "0  Instruction:\\nHelp me set up my daily to-do li...\n",
       "1  Instruction:\\nCreate a shopping list based on ...\n",
       "2  Instruction:\\nCalculate how much time I spend ...\n",
       "3  Instruction:\\nHelp me split the bill among my ...\n",
       "4  Instruction:\\nOrganize my movie list into genr..."
      ]
     },
     "execution_count": 1,
     "metadata": {},
     "output_type": "execute_result"
    }
   ],
   "source": [
    "import pandas as pd \n",
    "\n",
    "df = pd.read_csv('python_50k.csv')\n",
    "df.head()"
   ]
  },
  {
   "cell_type": "code",
   "execution_count": 2,
   "metadata": {},
   "outputs": [
    {
     "name": "stdout",
     "output_type": "stream",
     "text": [
      "Instruction:\n",
      "\n",
      "```\n",
      "class First(object):\n",
      "    def __init__(self):\n",
      "        print(\"first\")\n",
      "\n",
      "class Second(First):\n",
      "    def __init__(self):\n",
      "        print(\"second\")\n",
      "\n",
      "class Third(First, Second):\n",
      "    def __init__(self):\n",
      "        print(\"third\")\n",
      "\n",
      "```\n",
      "\n",
      "[Source](https://stackoverflow.com/a/3277407)\n",
      "\n",
      "\n",
      "Why can't Python create a consistent MRO? It seems to me it's pretty clear:\n",
      "\n",
      "\n",
      "1. Search in First if method does not exist in Third\n",
      "2. Search in Second if method does not exist in First\n",
      "\n",
      "\n",
      "But if you try it out:\n",
      "\n",
      "\n",
      "\n",
      "```\n",
      "TypeError: Error when calling the metaclass bases\n",
      "    Cannot create a consistent method resolution\n",
      "order (MRO) for bases First, Second\n",
      "\n",
      "```\n",
      "\n",
      "\n",
      "Response:\n",
      "The reason why Python cannot create a consistent method resolution order (MRO) for this example is because the diamond-shaped inheritance relationship between First, Second, and Third violates the C3 linearization algorithm, which is used to determine the MRO.\n",
      "\n",
      "In this case, since Third inherits from both First and Second, and Second also inherits from First, there is ambiguity in the order in which methods should be searched for and called. The C3 linearization algorithm ensures that the order is consistent and maintains the desirable properties of inheritance, such as the guarantee that a method defined in a superclass will always be found and called before the same method in a subclass.\n",
      "\n",
      "To fix this problem, you can use super() in the \\_\\_init\\_\\_ methods of Second and Third to call the parent constructors in the appropriate order, or rearrange the inheritance relationship between the classes so that there is no diamond-shaped pattern.\n"
     ]
    }
   ],
   "source": [
    "import random\n",
    "\n",
    "data = df['data'].tolist()\n",
    "\n",
    "print(random.choice(data))"
   ]
  },
  {
   "cell_type": "code",
   "execution_count": 3,
   "metadata": {},
   "outputs": [],
   "source": [
    "import os\n",
    "\n",
    "os.environ[\"KERAS_BACKEND\"] = \"jax\" #or torch or tensorflow\n",
    "os.environ[\"XLA_PYTHON_CLIENT_MEM_FRACTION\"]=\"1.00\""
   ]
  },
  {
   "cell_type": "code",
   "execution_count": null,
   "metadata": {},
   "outputs": [],
   "source": [
    "import keras_nlp\n",
    "\n",
    "gemma_lm = keras_nlp.models.GemmaCausalLM.from_preset(\"gemma_2b_en\")"
   ]
  },
  {
   "cell_type": "code",
   "execution_count": null,
   "metadata": {},
   "outputs": [],
   "source": [
    "gemma_lm.summary()"
   ]
  },
  {
   "cell_type": "code",
   "execution_count": null,
   "metadata": {},
   "outputs": [],
   "source": [
    "gemma_lm.backbone.enable_lora(rank=4)"
   ]
  },
  {
   "cell_type": "code",
   "execution_count": null,
   "metadata": {},
   "outputs": [],
   "source": [
    "def split_data(data, num_splits: int, split_size: int):\n",
    "    \"\"\"\n",
    "    Splits a list of data into a specified number of parts, each of a given size.\n",
    "\n",
    "    Args:\n",
    "        data: The list of data to be split.\n",
    "        num_splits (int): The number of parts to divide the data into.\n",
    "        split_size (int): The number of elements each part should contain.\n",
    "\n",
    "    Returns:\n",
    "        splits: array, where each inner list represents a split of the \n",
    "                original data containing `split_size` elements, except possibly \n",
    "                for the last split.\n",
    "\n",
    "    Example usage:\n",
    "        data = [1, 2, 3, ..., 50000]\n",
    "        splits = split_data(data, num_splits=5, split_size=10000)\n",
    "        # This will split `data` into 5 parts, each with 10000 elements.\n",
    "    \"\"\"\n",
    "    \n",
    "    splits = [data[i*split_size:(i+1)*split_size] for i in range(num_splits)]\n",
    "\n",
    "    for i, split in enumerate(splits, start=1):\n",
    "        print(f'Length from split {i}: {len(split)}')\n",
    "\n",
    "    return splits"
   ]
  },
  {
   "cell_type": "code",
   "execution_count": null,
   "metadata": {},
   "outputs": [],
   "source": [
    "splits = split_data(data=data, num_splits=5, split_size=10000)"
   ]
  },
  {
   "cell_type": "code",
   "execution_count": null,
   "metadata": {},
   "outputs": [],
   "source": [
    "del data"
   ]
  },
  {
   "cell_type": "code",
   "execution_count": null,
   "metadata": {},
   "outputs": [],
   "source": [
    "import keras\n",
    "\n",
    "# Limit the input sequence length to 512 (to control memory usage).\n",
    "gemma_lm.preprocessor.sequence_length = 256\n",
    "# Use AdamW (a common optimizer for transformer models).\n",
    "optimizer = keras.optimizers.AdamW(\n",
    "    learning_rate=5e-6,\n",
    "    weight_decay=0.01,\n",
    ")\n",
    "# Exclude layernorm and bias terms from decay.\n",
    "optimizer.exclude_from_weight_decay(var_names=[\"bias\", \"scale\"])\n",
    "\n",
    "gemma_lm.compile(\n",
    "    loss=keras.losses.SparseCategoricalCrossentropy(from_logits=True),\n",
    "    optimizer=optimizer,\n",
    "    weighted_metrics=[keras.metrics.SparseCategoricalAccuracy()],\n",
    ")\n",
    "gemma_lm.fit(splits[0], epochs=1, batch_size=1)"
   ]
  },
  {
   "cell_type": "code",
   "execution_count": null,
   "metadata": {},
   "outputs": [],
   "source": [
    "test_example = random.choice(splits[0])\n",
    "print(test_example)"
   ]
  },
  {
   "cell_type": "code",
   "execution_count": null,
   "metadata": {},
   "outputs": [],
   "source": [
    "instruction=\"Write a Python script to check whether a given number is in between two given values num = 10, lowerBound = 9, upperBound = 11\"\n",
    "response=\"\"\n",
    "prompt = f\"Instruction:\\n{instruction}\\n\\nResponse:\\n{response}\"\n",
    "print(gemma_lm.generate(prompt, max_length=512))"
   ]
  },
  {
   "cell_type": "code",
   "execution_count": null,
   "metadata": {},
   "outputs": [],
   "source": [
    "gemma_lm.save(\"version_finetuned.keras\")"
   ]
  }
 ],
 "metadata": {
  "kernelspec": {
   "display_name": "torch",
   "language": "python",
   "name": "python3"
  },
  "language_info": {
   "codemirror_mode": {
    "name": "ipython",
    "version": 3
   },
   "file_extension": ".py",
   "mimetype": "text/x-python",
   "name": "python",
   "nbconvert_exporter": "python",
   "pygments_lexer": "ipython3",
   "version": "3.10.13"
  }
 },
 "nbformat": 4,
 "nbformat_minor": 2
}
